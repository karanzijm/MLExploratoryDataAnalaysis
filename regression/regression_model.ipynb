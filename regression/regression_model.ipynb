{
 "cells": [
  {
   "cell_type": "code",
   "execution_count": 1,
   "id": "367af87f-946d-4b57-8df1-8133f18c688a",
   "metadata": {},
   "outputs": [],
   "source": [
    "import pandas as pd\n",
    "import matplotlib.pyplot as plt\n",
    "import seaborn as sns \n",
    "from sklearn.preprocessing import LabelEncoder\n"
   ]
  },
  {
   "cell_type": "code",
   "execution_count": 2,
   "id": "f64235d1-c7c3-4c2a-9d46-9c85d37bbb07",
   "metadata": {},
   "outputs": [
    {
     "ename": "FileNotFoundError",
     "evalue": "[Errno 2] No such file or directory: 'insurance.csv'",
     "output_type": "error",
     "traceback": [
      "\u001b[0;31m---------------------------------------------------------------------------\u001b[0m",
      "\u001b[0;31mFileNotFoundError\u001b[0m                         Traceback (most recent call last)",
      "Cell \u001b[0;32mIn[2], line 1\u001b[0m\n\u001b[0;32m----> 1\u001b[0m data \u001b[38;5;241m=\u001b[39m pd\u001b[38;5;241m.\u001b[39mread_csv(\u001b[38;5;124m'\u001b[39m\u001b[38;5;124minsurance.csv\u001b[39m\u001b[38;5;124m'\u001b[39m)\n\u001b[1;32m      2\u001b[0m data\u001b[38;5;241m.\u001b[39mhead(), data\u001b[38;5;241m.\u001b[39minfo(), data\u001b[38;5;241m.\u001b[39mdescribe()\n",
      "File \u001b[0;32m/opt/anaconda3/lib/python3.12/site-packages/pandas/io/parsers/readers.py:1026\u001b[0m, in \u001b[0;36mread_csv\u001b[0;34m(filepath_or_buffer, sep, delimiter, header, names, index_col, usecols, dtype, engine, converters, true_values, false_values, skipinitialspace, skiprows, skipfooter, nrows, na_values, keep_default_na, na_filter, verbose, skip_blank_lines, parse_dates, infer_datetime_format, keep_date_col, date_parser, date_format, dayfirst, cache_dates, iterator, chunksize, compression, thousands, decimal, lineterminator, quotechar, quoting, doublequote, escapechar, comment, encoding, encoding_errors, dialect, on_bad_lines, delim_whitespace, low_memory, memory_map, float_precision, storage_options, dtype_backend)\u001b[0m\n\u001b[1;32m   1013\u001b[0m kwds_defaults \u001b[38;5;241m=\u001b[39m _refine_defaults_read(\n\u001b[1;32m   1014\u001b[0m     dialect,\n\u001b[1;32m   1015\u001b[0m     delimiter,\n\u001b[0;32m   (...)\u001b[0m\n\u001b[1;32m   1022\u001b[0m     dtype_backend\u001b[38;5;241m=\u001b[39mdtype_backend,\n\u001b[1;32m   1023\u001b[0m )\n\u001b[1;32m   1024\u001b[0m kwds\u001b[38;5;241m.\u001b[39mupdate(kwds_defaults)\n\u001b[0;32m-> 1026\u001b[0m \u001b[38;5;28;01mreturn\u001b[39;00m _read(filepath_or_buffer, kwds)\n",
      "File \u001b[0;32m/opt/anaconda3/lib/python3.12/site-packages/pandas/io/parsers/readers.py:620\u001b[0m, in \u001b[0;36m_read\u001b[0;34m(filepath_or_buffer, kwds)\u001b[0m\n\u001b[1;32m    617\u001b[0m _validate_names(kwds\u001b[38;5;241m.\u001b[39mget(\u001b[38;5;124m\"\u001b[39m\u001b[38;5;124mnames\u001b[39m\u001b[38;5;124m\"\u001b[39m, \u001b[38;5;28;01mNone\u001b[39;00m))\n\u001b[1;32m    619\u001b[0m \u001b[38;5;66;03m# Create the parser.\u001b[39;00m\n\u001b[0;32m--> 620\u001b[0m parser \u001b[38;5;241m=\u001b[39m TextFileReader(filepath_or_buffer, \u001b[38;5;241m*\u001b[39m\u001b[38;5;241m*\u001b[39mkwds)\n\u001b[1;32m    622\u001b[0m \u001b[38;5;28;01mif\u001b[39;00m chunksize \u001b[38;5;129;01mor\u001b[39;00m iterator:\n\u001b[1;32m    623\u001b[0m     \u001b[38;5;28;01mreturn\u001b[39;00m parser\n",
      "File \u001b[0;32m/opt/anaconda3/lib/python3.12/site-packages/pandas/io/parsers/readers.py:1620\u001b[0m, in \u001b[0;36mTextFileReader.__init__\u001b[0;34m(self, f, engine, **kwds)\u001b[0m\n\u001b[1;32m   1617\u001b[0m     \u001b[38;5;28mself\u001b[39m\u001b[38;5;241m.\u001b[39moptions[\u001b[38;5;124m\"\u001b[39m\u001b[38;5;124mhas_index_names\u001b[39m\u001b[38;5;124m\"\u001b[39m] \u001b[38;5;241m=\u001b[39m kwds[\u001b[38;5;124m\"\u001b[39m\u001b[38;5;124mhas_index_names\u001b[39m\u001b[38;5;124m\"\u001b[39m]\n\u001b[1;32m   1619\u001b[0m \u001b[38;5;28mself\u001b[39m\u001b[38;5;241m.\u001b[39mhandles: IOHandles \u001b[38;5;241m|\u001b[39m \u001b[38;5;28;01mNone\u001b[39;00m \u001b[38;5;241m=\u001b[39m \u001b[38;5;28;01mNone\u001b[39;00m\n\u001b[0;32m-> 1620\u001b[0m \u001b[38;5;28mself\u001b[39m\u001b[38;5;241m.\u001b[39m_engine \u001b[38;5;241m=\u001b[39m \u001b[38;5;28mself\u001b[39m\u001b[38;5;241m.\u001b[39m_make_engine(f, \u001b[38;5;28mself\u001b[39m\u001b[38;5;241m.\u001b[39mengine)\n",
      "File \u001b[0;32m/opt/anaconda3/lib/python3.12/site-packages/pandas/io/parsers/readers.py:1880\u001b[0m, in \u001b[0;36mTextFileReader._make_engine\u001b[0;34m(self, f, engine)\u001b[0m\n\u001b[1;32m   1878\u001b[0m     \u001b[38;5;28;01mif\u001b[39;00m \u001b[38;5;124m\"\u001b[39m\u001b[38;5;124mb\u001b[39m\u001b[38;5;124m\"\u001b[39m \u001b[38;5;129;01mnot\u001b[39;00m \u001b[38;5;129;01min\u001b[39;00m mode:\n\u001b[1;32m   1879\u001b[0m         mode \u001b[38;5;241m+\u001b[39m\u001b[38;5;241m=\u001b[39m \u001b[38;5;124m\"\u001b[39m\u001b[38;5;124mb\u001b[39m\u001b[38;5;124m\"\u001b[39m\n\u001b[0;32m-> 1880\u001b[0m \u001b[38;5;28mself\u001b[39m\u001b[38;5;241m.\u001b[39mhandles \u001b[38;5;241m=\u001b[39m get_handle(\n\u001b[1;32m   1881\u001b[0m     f,\n\u001b[1;32m   1882\u001b[0m     mode,\n\u001b[1;32m   1883\u001b[0m     encoding\u001b[38;5;241m=\u001b[39m\u001b[38;5;28mself\u001b[39m\u001b[38;5;241m.\u001b[39moptions\u001b[38;5;241m.\u001b[39mget(\u001b[38;5;124m\"\u001b[39m\u001b[38;5;124mencoding\u001b[39m\u001b[38;5;124m\"\u001b[39m, \u001b[38;5;28;01mNone\u001b[39;00m),\n\u001b[1;32m   1884\u001b[0m     compression\u001b[38;5;241m=\u001b[39m\u001b[38;5;28mself\u001b[39m\u001b[38;5;241m.\u001b[39moptions\u001b[38;5;241m.\u001b[39mget(\u001b[38;5;124m\"\u001b[39m\u001b[38;5;124mcompression\u001b[39m\u001b[38;5;124m\"\u001b[39m, \u001b[38;5;28;01mNone\u001b[39;00m),\n\u001b[1;32m   1885\u001b[0m     memory_map\u001b[38;5;241m=\u001b[39m\u001b[38;5;28mself\u001b[39m\u001b[38;5;241m.\u001b[39moptions\u001b[38;5;241m.\u001b[39mget(\u001b[38;5;124m\"\u001b[39m\u001b[38;5;124mmemory_map\u001b[39m\u001b[38;5;124m\"\u001b[39m, \u001b[38;5;28;01mFalse\u001b[39;00m),\n\u001b[1;32m   1886\u001b[0m     is_text\u001b[38;5;241m=\u001b[39mis_text,\n\u001b[1;32m   1887\u001b[0m     errors\u001b[38;5;241m=\u001b[39m\u001b[38;5;28mself\u001b[39m\u001b[38;5;241m.\u001b[39moptions\u001b[38;5;241m.\u001b[39mget(\u001b[38;5;124m\"\u001b[39m\u001b[38;5;124mencoding_errors\u001b[39m\u001b[38;5;124m\"\u001b[39m, \u001b[38;5;124m\"\u001b[39m\u001b[38;5;124mstrict\u001b[39m\u001b[38;5;124m\"\u001b[39m),\n\u001b[1;32m   1888\u001b[0m     storage_options\u001b[38;5;241m=\u001b[39m\u001b[38;5;28mself\u001b[39m\u001b[38;5;241m.\u001b[39moptions\u001b[38;5;241m.\u001b[39mget(\u001b[38;5;124m\"\u001b[39m\u001b[38;5;124mstorage_options\u001b[39m\u001b[38;5;124m\"\u001b[39m, \u001b[38;5;28;01mNone\u001b[39;00m),\n\u001b[1;32m   1889\u001b[0m )\n\u001b[1;32m   1890\u001b[0m \u001b[38;5;28;01massert\u001b[39;00m \u001b[38;5;28mself\u001b[39m\u001b[38;5;241m.\u001b[39mhandles \u001b[38;5;129;01mis\u001b[39;00m \u001b[38;5;129;01mnot\u001b[39;00m \u001b[38;5;28;01mNone\u001b[39;00m\n\u001b[1;32m   1891\u001b[0m f \u001b[38;5;241m=\u001b[39m \u001b[38;5;28mself\u001b[39m\u001b[38;5;241m.\u001b[39mhandles\u001b[38;5;241m.\u001b[39mhandle\n",
      "File \u001b[0;32m/opt/anaconda3/lib/python3.12/site-packages/pandas/io/common.py:873\u001b[0m, in \u001b[0;36mget_handle\u001b[0;34m(path_or_buf, mode, encoding, compression, memory_map, is_text, errors, storage_options)\u001b[0m\n\u001b[1;32m    868\u001b[0m \u001b[38;5;28;01melif\u001b[39;00m \u001b[38;5;28misinstance\u001b[39m(handle, \u001b[38;5;28mstr\u001b[39m):\n\u001b[1;32m    869\u001b[0m     \u001b[38;5;66;03m# Check whether the filename is to be opened in binary mode.\u001b[39;00m\n\u001b[1;32m    870\u001b[0m     \u001b[38;5;66;03m# Binary mode does not support 'encoding' and 'newline'.\u001b[39;00m\n\u001b[1;32m    871\u001b[0m     \u001b[38;5;28;01mif\u001b[39;00m ioargs\u001b[38;5;241m.\u001b[39mencoding \u001b[38;5;129;01mand\u001b[39;00m \u001b[38;5;124m\"\u001b[39m\u001b[38;5;124mb\u001b[39m\u001b[38;5;124m\"\u001b[39m \u001b[38;5;129;01mnot\u001b[39;00m \u001b[38;5;129;01min\u001b[39;00m ioargs\u001b[38;5;241m.\u001b[39mmode:\n\u001b[1;32m    872\u001b[0m         \u001b[38;5;66;03m# Encoding\u001b[39;00m\n\u001b[0;32m--> 873\u001b[0m         handle \u001b[38;5;241m=\u001b[39m \u001b[38;5;28mopen\u001b[39m(\n\u001b[1;32m    874\u001b[0m             handle,\n\u001b[1;32m    875\u001b[0m             ioargs\u001b[38;5;241m.\u001b[39mmode,\n\u001b[1;32m    876\u001b[0m             encoding\u001b[38;5;241m=\u001b[39mioargs\u001b[38;5;241m.\u001b[39mencoding,\n\u001b[1;32m    877\u001b[0m             errors\u001b[38;5;241m=\u001b[39merrors,\n\u001b[1;32m    878\u001b[0m             newline\u001b[38;5;241m=\u001b[39m\u001b[38;5;124m\"\u001b[39m\u001b[38;5;124m\"\u001b[39m,\n\u001b[1;32m    879\u001b[0m         )\n\u001b[1;32m    880\u001b[0m     \u001b[38;5;28;01melse\u001b[39;00m:\n\u001b[1;32m    881\u001b[0m         \u001b[38;5;66;03m# Binary mode\u001b[39;00m\n\u001b[1;32m    882\u001b[0m         handle \u001b[38;5;241m=\u001b[39m \u001b[38;5;28mopen\u001b[39m(handle, ioargs\u001b[38;5;241m.\u001b[39mmode)\n",
      "\u001b[0;31mFileNotFoundError\u001b[0m: [Errno 2] No such file or directory: 'insurance.csv'"
     ]
    }
   ],
   "source": [
    "\n",
    "data = pd.read_csv('insurance.csv')\n",
    "data.head(), data.info(), data.describe()"
   ]
  },
  {
   "cell_type": "code",
   "execution_count": null,
   "id": "afa5995f-7753-4ef5-a144-21d9e8c03012",
   "metadata": {},
   "outputs": [],
   "source": [
    "#EDA\n",
    "# Focusing on feature relationships and data visualization\n",
    "\n",
    "plt.figure(figsize=(10, 6))\n",
    "sns.heatmap(data.select_dtypes(include=[\"number\"]).corr(), annot=True, fmt=\".2f\", cmap=\"coolwarm\")\n",
    "plt.title(\"Correlation Heatmap for Numerical Variables\")\n",
    "plt.show()\n",
    "\n",
    "\n",
    "\n"
   ]
  },
  {
   "cell_type": "code",
   "execution_count": null,
   "id": "298f673c-2bb8-4800-b27e-872b8662b6e2",
   "metadata": {},
   "outputs": [],
   "source": [
    "plt.figure(figsize=(10,6))\n",
    "sns.boxplot(data=data, x=\"charges\")\n",
    "plt.title(\"Boxplot of Medical Charges\")\n",
    "plt.show()"
   ]
  },
  {
   "cell_type": "code",
   "execution_count": null,
   "id": "ebdb72aa-25d0-4ec7-b838-f3921aca37e6",
   "metadata": {},
   "outputs": [],
   "source": [
    "sns.pairplot(data, vars=[\"age\",\"bmi\",\"children\",\"charges\"], hue=\"smoker\", palette=\"viridis\")\n",
    "plt.suptitle(\"Pairplot of Numerical Features with Charges\", y=1.02)\n",
    "plt.show()"
   ]
  },
  {
   "cell_type": "code",
   "execution_count": null,
   "id": "e7baaf7d-2a15-419b-a777-8508414935a3",
   "metadata": {},
   "outputs": [],
   "source": [
    "#Encode categorical variables for analysis\n",
    "# Encode categorical variables\n",
    "encoded_data = data.copy()\n",
    "encoded_data[\"sex\"] = encoded_data[\"sex\"].map({\"male\": 0, \"female\": 1})\n",
    "encoded_data[\"smoker\"] = encoded_data[\"smoker\"].map({\"no\": 0, \"yes\": 1})\n",
    "\n",
    "# One-hot encode the 'region' column and concatenate it with the original dataset\n",
    "label_encoder = LabelEncoder()\n",
    "encoded_data['region'] = label_encoder.fit_transform(encoded_data['region'])\n",
    "\n",
    "# Pair plot\n",
    "sns.pairplot(encoded_data, vars=[\"age\", \"bmi\", \"children\", \"region\",\"charges\"], hue=\"smoker\", palette=\"viridis\")\n",
    "plt.suptitle(\"Pairplot of Numerical Features with Charges\", y=1.02)\n",
    "plt.show()\n"
   ]
  },
  {
   "cell_type": "code",
   "execution_count": null,
   "id": "ed7b454c-b3f4-419a-9be3-5c3165e2eebf",
   "metadata": {},
   "outputs": [],
   "source": [
    "encoded_data.info()\n"
   ]
  },
  {
   "cell_type": "code",
   "execution_count": null,
   "id": "07170149-4965-4e06-852c-65a41a2385c7",
   "metadata": {},
   "outputs": [],
   "source": [
    "encoded_data"
   ]
  },
  {
   "cell_type": "code",
   "execution_count": null,
   "id": "e1a7da2a-f7a5-4ab2-bd9b-d0ebf67014c4",
   "metadata": {},
   "outputs": [],
   "source": [
    "encoded_data.describe(include='all'),encoded_data.isnull().sum()"
   ]
  },
  {
   "cell_type": "code",
   "execution_count": null,
   "id": "79fdf65d-36ac-4d8a-841b-3a4e50725312",
   "metadata": {},
   "outputs": [],
   "source": [
    "# Scatterplots for relationships between numerical features and charges\n",
    "plt.figure(figsize=(12, 6))\n",
    "plt.subplot(1, 3, 1)\n",
    "sns.scatterplot(data=encoded_data, x=\"age\", y=\"charges\", hue=\"smoker\", palette=\"viridis\")\n",
    "plt.title(\"Age vs Charges\")\n",
    "\n",
    "plt.subplot(1, 3, 2)\n",
    "sns.scatterplot(data=encoded_data, x=\"bmi\", y=\"charges\", hue=\"smoker\", palette=\"viridis\")\n",
    "plt.title(\"BMI vs Charges\")\n",
    "\n",
    "plt.subplot(1, 3, 3)\n",
    "sns.scatterplot(data=encoded_data, x=\"children\", y=\"charges\", hue=\"smoker\", palette=\"viridis\")\n",
    "plt.title(\"Children vs Charges\")\n",
    "\n",
    "plt.tight_layout()\n",
    "plt.show()\n",
    "\n",
    "# Histogram of charges by smoker status\n",
    "custom_palette={\"yes\":\"green\", \"no\":\"blue\"}\n",
    "plt.figure(figsize=(10, 6))\n",
    "sns.histplot(data=data, x=\"charges\", hue=\"smoker\", kde=True, element=\"step\", palette=custom_palette)\n",
    "plt.title(\"Distribution of Charges by Smoker Status\")\n",
    "plt.show()\n"
   ]
  },
  {
   "cell_type": "code",
   "execution_count": null,
   "id": "a2eacf68-fa6b-46ed-9f73-2c2382812e8f",
   "metadata": {},
   "outputs": [],
   "source": [
    "#Train the model \n"
   ]
  },
  {
   "cell_type": "code",
   "execution_count": null,
   "id": "ebae8c1b-6ff2-4b49-a1c5-c04133696a50",
   "metadata": {},
   "outputs": [],
   "source": [
    "from sklearn.model_selection import train_test_split\n",
    "\n",
    "# Splitting the data into dependent variables and independent vars\n",
    "X= encoded_data.drop(columns=[\"charges\"])\n",
    "y=encoded_data[\"charges\"]\n",
    "\n",
    "# training 70%, validation 10%, testing 30%\n",
    "X_train, X_temp, y_train, y_temp = train_test_split(X,y,test_size=0.3,random_state=42)\n",
    "X_val, X_test, y_val, y_test = train_test_split(X_temp,y_temp,test_size=0.67,random_state=42)\n",
    "\n",
    "# The shape of the splits\n",
    "X_train.shape,X_val.shape,X_test.shape, y_train.shape, y_val.shape, y_test.shape\n",
    "\n"
   ]
  },
  {
   "cell_type": "code",
   "execution_count": null,
   "id": "915b4b46-1b20-40a0-ab28-4672fba8f367",
   "metadata": {},
   "outputs": [],
   "source": []
  },
  {
   "cell_type": "code",
   "execution_count": null,
   "id": "8e1a057d-aeb4-4240-a032-7f34ed98d3ab",
   "metadata": {},
   "outputs": [],
   "source": [
    "from sklearn.linear_model import LinearRegression\n",
    "from sklearn.metrics import mean_absolute_error, mean_squared_error, r2_score\n",
    "import numpy as np\n",
    "\n",
    "#Initialize and train the model\n",
    "model = LinearRegression()\n",
    "model.fit(X_train, y_train)\n",
    "\n",
    "# Predictions on the datasets\n",
    "y_train_pred=model.predict(X_train)\n",
    "y_val_pred=model.predict(X_val)\n",
    "y_test_predict=model.predict(X_test)"
   ]
  },
  {
   "cell_type": "code",
   "execution_count": null,
   "id": "7b140c1a-dc8d-4ef4-94e7-59bb578c3aec",
   "metadata": {},
   "outputs": [],
   "source": [
    "pip install ace-tools\n"
   ]
  },
  {
   "cell_type": "code",
   "execution_count": null,
   "id": "76feb044-0c77-4763-9a3f-34e01da05fd4",
   "metadata": {},
   "outputs": [],
   "source": [
    "#Calculating the mterics for the model\n",
    "train_mae= mean_absolute_error(y_train,y_train_pred)\n",
    "val_mae=mean_absolute_error(y_val,y_val_pred)\n",
    "test_mae=mean_absolute_error(y_test,y_test_predict)\n",
    "\n",
    "train_mse= mean_squared_error(y_train,y_train_pred)\n",
    "val_mse=mean_squared_error(y_val,y_val_pred)\n",
    "test_mse=mean_squared_error(y_test,y_test_predict)\n",
    "\n",
    "train_rmse=np.sqrt(train_mse)\n",
    "val_rmse=mean_squared_error(y_val,y_val_pred)\n",
    "test_rmse=mean_squared_error(y_test,y_test_predict)\n",
    "\n",
    "train_r2=r2_score(y_train,y_train_pred)\n",
    "val_r2= r2_score(y_val,y_val_pred)\n",
    "test_r2=r2_score(y_test,  y_test_predict)\n",
    "\n",
    "#Compiling results into a dictionary\n",
    "results={\n",
    "    \"Dataset\":[\"Training\",\"Validation\",\"Testing\"],\n",
    "    \"MAE\":[train_mae, val_mae,test_mae],\n",
    "    \"MSE\":[train_mse, val_mse,test_mse],\n",
    "    \"RMSE\":[train_rmse, val_rmse,test_rmse],\n",
    "    \"R2 Score\":[train_r2, val_r2,test_r2],\n",
    "\n",
    "}\n",
    "\n",
    "results_df= pd.DataFrame(results)\n",
    "# print(results_df)\n",
    "\n",
    "from IPython.display import display\n",
    "display(results_df)\n"
   ]
  },
  {
   "cell_type": "code",
   "execution_count": null,
   "id": "15905b59-be1f-4266-8a3a-c7f7067ffa3a",
   "metadata": {},
   "outputs": [],
   "source": [
    "from sklearn.ensemble import RandomForestRegressor\n",
    "\n",
    "# Initialize and train the Random Forest Regressor\n",
    "rf_model = RandomForestRegressor(random_state=42, n_estimators=100)\n",
    "rf_model.fit(X_train, y_train)\n",
    "\n",
    "# Predictions on all datasets\n",
    "y_train_rf_pred = rf_model.predict(X_train)\n",
    "y_val_rf_pred = rf_model.predict(X_val)\n",
    "y_test_rf_pred = rf_model.predict(X_test)\n",
    "\n",
    "# Calculate metrics for Random Forest\n",
    "rf_train_mae = mean_absolute_error(y_train, y_train_rf_pred)\n",
    "rf_val_mae = mean_absolute_error(y_val, y_val_rf_pred)\n",
    "rf_test_mae = mean_absolute_error(y_test, y_test_rf_pred)\n",
    "\n",
    "rf_train_mse = mean_squared_error(y_train, y_train_rf_pred)\n",
    "rf_val_mse = mean_squared_error(y_val, y_val_rf_pred)\n",
    "rf_test_mse = mean_squared_error(y_test, y_test_rf_pred)\n",
    "\n",
    "rf_train_rmse = np.sqrt(rf_train_mse)\n",
    "rf_val_rmse = np.sqrt(rf_val_mse)\n",
    "rf_test_rmse = np.sqrt(rf_test_mse)\n",
    "\n",
    "rf_train_r2 = r2_score(y_train, y_train_rf_pred)\n",
    "rf_val_r2 = r2_score(y_val, y_val_rf_pred)\n",
    "rf_test_r2 = r2_score(y_test, y_test_rf_pred)\n",
    "\n",
    "# Compile results into a dictionary\n",
    "rf_results = {\n",
    "    \"Dataset\": [\"Training\", \"Validation\", \"Testing\"],\n",
    "    \"MAE\": [rf_train_mae, rf_val_mae, rf_test_mae],\n",
    "    \"MSE\": [rf_train_mse, rf_val_mse, rf_test_mse],\n",
    "    \"RMSE\": [rf_train_rmse, rf_val_rmse, rf_test_rmse],\n",
    "    \"R2 Score\": [rf_train_r2, rf_val_r2, rf_test_r2]\n",
    "}\n",
    "\n",
    "# Create a DataFrame to display results\n",
    "rf_results_df = pd.DataFrame(rf_results)\n",
    "print(rf_results_df)"
   ]
  },
  {
   "cell_type": "code",
   "execution_count": null,
   "id": "3b95ff7d-2ef6-420b-9da1-d26b44500ef6",
   "metadata": {},
   "outputs": [],
   "source": [
    "pip install shap "
   ]
  },
  {
   "cell_type": "code",
   "execution_count": null,
   "id": "1aeb83e7-2069-4a7a-ad30-ab347af2ee6b",
   "metadata": {},
   "outputs": [],
   "source": [
    "# Perform SHAP analysis for Linear Regression\n",
    "import shap as shap\n",
    "linear_explainer = shap.Explainer(model, X_train)  # SHAP for Linear Regression\n",
    "linear_shap_values = linear_explainer(X_train)\n",
    "\n",
    "# SHAP Summary plot for Linear Regression\n",
    "print(\"SHAP Analysis for Linear Regression\")\n",
    "shap.summary_plot(linear_shap_values, X_train, plot_type=\"bar\")\n",
    "\n",
    "# Perform SHAP analysis for Random Forest\n",
    "rf_explainer = shap.Explainer(rf_model, X_train)  # SHAP for Random Forest\n",
    "rf_shap_values = rf_explainer(X_train)\n",
    "\n",
    "# SHAP Summary plot for Random Forest\n",
    "print(\"SHAP Analysis for Random Forest\")\n",
    "shap.summary_plot(rf_shap_values, X_train, plot_type=\"bar\")\n"
   ]
  },
  {
   "cell_type": "code",
   "execution_count": null,
   "id": "c83ab673-774c-4ea6-9258-5fa35818a117",
   "metadata": {},
   "outputs": [],
   "source": [
    "pip show shap"
   ]
  },
  {
   "cell_type": "code",
   "execution_count": null,
   "id": "216d2895-47ad-42f7-a525-4c8fa003600d",
   "metadata": {},
   "outputs": [],
   "source": [
    "from sklearn.model_selection import train_test_split\n",
    "\n",
    "# Splitting data into features and target variable\n",
    "X = encoded_data.drop(columns=[\"charges\"])\n",
    "y = encoded_data[\"charges\"]\n",
    "\n",
    "# Splitting the dataset into training (70%), validation (10%), and testing (20%)\n",
    "X_train, X_temp, y_train, y_temp = train_test_split(X, y, test_size=0.3, random_state=42)\n",
    "X_val, X_test, y_val, y_test = train_test_split(X_temp, y_temp, test_size=0.67, random_state=42)\n",
    "\n",
    "# Print the shape of the splits\n",
    "X_train.shape, X_val.shape, X_test.shape, y_train.shape, y_val.shape, y_test.shape\n"
   ]
  },
  {
   "cell_type": "code",
   "execution_count": null,
   "id": "aec6c8f6-f85a-457e-8607-d436678e70a8",
   "metadata": {},
   "outputs": [],
   "source": [
    "# Fixing SHAP compatibility by setting up the explainer correctly\n",
    "shap.initjs()  # Initialize JS visualization for SHAP\n",
    "\n",
    "# Define a Kernel Explainer for SHAP (compatible with sklearn models)\n",
    "explainer = shap.KernelExplainer(model.predict, X_train[:100])  # Using a subset of the data for efficiency\n",
    "shap_values = explainer.shap_values(X_train[:100])\n",
    "\n",
    "# Summary plot for SHAP\n",
    "shap.summary_plot(shap_values, X_train[:100], plot_type=\"bar\")\n"
   ]
  },
  {
   "cell_type": "code",
   "execution_count": null,
   "id": "666b3544-85ef-4738-a17f-c2c552a611cb",
   "metadata": {
    "scrolled": true
   },
   "outputs": [],
   "source": [
    "# Plotting the coefficients directly without external tools\n",
    "plt.figure(figsize=(10, 6))\n",
    "sns.barplot(data=feature_importance, x=\"Coefficient\", y=\"Feature\", orient=\"h\")\n",
    "plt.title(\"Feature Importance Based on Linear Regression Coefficients\")\n",
    "plt.xlabel(\"Coefficient Value\")\n",
    "plt.ylabel(\"Feature\")\n",
    "plt.show()\n"
   ]
  },
  {
   "cell_type": "code",
   "execution_count": null,
   "id": "4d7745b5-9dda-477e-b198-b56ab457f322",
   "metadata": {},
   "outputs": [],
   "source": [
    "# Correctly formatted input data\n",
    "input_data = pd.DataFrame({\n",
    "    \"age\": [50],                # Age\n",
    "    \"sex\": [0],                 # Male\n",
    "    \"bmi\": [25],                # Assuming an average BMI\n",
    "    \"children\": [4],            # Number of children\n",
    "    \"smoker\": [1],              # Smoker (1 = yes)\n",
    "    \"region\": [1],    # Northwest region\n",
    "       # Not Southeast\n",
    "       # Not Southwest\n",
    "})\n",
    "\n",
    "# Predict using the trained Random Forest model\n",
    "predicted_price = rf_model.predict(input_data)\n",
    "predicted_price[0]  # Display the predicted price\n"
   ]
  },
  {
   "cell_type": "code",
   "execution_count": null,
   "id": "95c0a719-b76d-445b-b63c-183bb0ba4abd",
   "metadata": {},
   "outputs": [],
   "source": [
    "# Correctly formatted input data\n",
    "input_data = pd.DataFrame({\n",
    "    \"age\": [50],                # Age\n",
    "    \"sex\": [0],                 # Male\n",
    "    \"bmi\": [25],                # Assuming an average BMI\n",
    "    \"children\": [4],            # Number of children\n",
    "    \"smoker\": [0],              # Smoker (1 = yes)\n",
    "    \"region\": [1],    # Northwest region\n",
    "       # Not Southeast\n",
    "       # Not Southwest\n",
    "})\n",
    "\n",
    "# Predict using the trained Random Forest model\n",
    "predicted_price = rf_model.predict(input_data)\n",
    "predicted_price[0]  # Display the predicted price"
   ]
  },
  {
   "cell_type": "code",
   "execution_count": null,
   "id": "38cbeeb6-87d6-47e5-882d-e0566adbb0df",
   "metadata": {},
   "outputs": [],
   "source": []
  }
 ],
 "metadata": {
  "kernelspec": {
   "display_name": "Python 3 (ipykernel)",
   "language": "python",
   "name": "python3"
  },
  "language_info": {
   "codemirror_mode": {
    "name": "ipython",
    "version": 3
   },
   "file_extension": ".py",
   "mimetype": "text/x-python",
   "name": "python",
   "nbconvert_exporter": "python",
   "pygments_lexer": "ipython3",
   "version": "3.12.4"
  }
 },
 "nbformat": 4,
 "nbformat_minor": 5
}
